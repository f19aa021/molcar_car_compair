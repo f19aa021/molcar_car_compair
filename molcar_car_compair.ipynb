{
  "nbformat": 4,
  "nbformat_minor": 0,
  "metadata": {
    "colab": {
      "name": "molcar_car_compair.ipynb",
      "provenance": [],
      "collapsed_sections": [],
      "mount_file_id": "1kPKuBFto_qFPcuOiKu68PnmWTU-9pzzz",
      "authorship_tag": "ABX9TyP5QCGJF8xEAXI6tQ8AgBke"
    },
    "kernelspec": {
      "name": "python3",
      "display_name": "Python 3"
    },
    "language_info": {
      "name": "python"
    }
  },
  "cells": [
    {
      "cell_type": "markdown",
      "source": [
        "**各コードボックスをホバーした際に表示される再生ボタンをクリックすると、ローカル環境で実行できてしまう恐れがあります、コード閲覧の際には十分お気をつけください。**"
      ],
      "metadata": {
        "id": "5arMRFv_BCf2"
      }
    },
    {
      "cell_type": "markdown",
      "metadata": {
        "id": "YhfQqsL2Lb1D"
      },
      "source": [
        "CNN(畳み込みニューラルネットワーク)の画像判定学習モデルを用いた、\n",
        "\n",
        "モルカーと車の画像群からモルカーの画像かどうかを比較するプログラム。"
      ]
    },
    {
      "cell_type": "code",
      "metadata": {
        "id": "dfUM5NHAvWHo"
      },
      "source": [
        "# GoogleDriveをColabにマウント\n",
        "from google.colab import drive\n",
        "drive.mount('/content/drive')"
      ],
      "execution_count": null,
      "outputs": []
    },
    {
      "cell_type": "code",
      "metadata": {
        "id": "Ii9ioBHa05kr"
      },
      "source": [
        "# 画像サイズの指定\n",
        "img_size = (320, 320) \n",
        "\n",
        "# プロジェクトのルートパス\n",
        "path_root = '/content/drive/MyDrive/molcar_car_compair'\n",
        "\n",
        "path_molcar = path_root + '/molcar'\n",
        "path_car = path_root + '/car'\n",
        "\n",
        "mol_aa = '''\n",
        "    　 ＿＿＿＿\n",
        "　 　 ／ /く￣￣ ＼＿\n",
        "　 　/(二ﾌ　￣￣￣＼ )   < {0}\n",
        "　｜|    　　 ●⌒●　ヽ\n",
        "｜    ヽ＿／　　　＼_ |\n",
        "｜ (⌒)、　　 Ｙ　   ノ\n",
        "　￣ (＞ー＜  ＞-＜)\n",
        "　　 　￣　　　　　   ￣\n",
        "'''\n",
        "# kawaii"
      ],
      "execution_count": null,
      "outputs": []
    },
    {
      "cell_type": "code",
      "metadata": {
        "id": "kHFLyXDI0fQD"
      },
      "source": [
        "# GoogleDriveのMyDrive下にmolcar_car_compairフォルダを作成\n",
        "# 作成したmolcar_car_compairフォルダ下にモルカーフォルダと車フォルダを作成\n",
        "from pathlib import Path\n",
        "\n",
        "Path(path_root).mkdir(exist_ok=True)\n",
        "Path(path_molcar).mkdir(exist_ok=True)\n",
        "Path(path_car).mkdir(exist_ok=True)"
      ],
      "execution_count": null,
      "outputs": []
    },
    {
      "cell_type": "code",
      "metadata": {
        "id": "hlv6xBCB26Yu"
      },
      "source": [
        "# クローラーを用いてWeb上から画像収集\n",
        "!pip install icrawler\n",
        "\n",
        "# 検索エンジンはBing\n",
        "from icrawler.builtin import BingImageCrawler\n",
        "\n",
        "# 「モルカー」で検索した画像を最大100枚保存\n",
        "crawler = BingImageCrawler(storage={'root_dir': path_molcar})\n",
        "crawler.crawl(keyword='モルカー', max_num=100)\n",
        "\n",
        "# 「車」で検索した画像を最大100枚保存\n",
        "crawler = BingImageCrawler(storage={'root_dir': path_car})\n",
        "crawler.crawl(keyword='車', max_num=100)"
      ],
      "execution_count": null,
      "outputs": []
    },
    {
      "cell_type": "code",
      "metadata": {
        "id": "ESRaf3nM3RRP"
      },
      "source": [
        "# 画像データから学習用、テスト用に分けたデータセットであるnpyファイルを作成\n",
        "import glob\n",
        "import numpy as np\n",
        "import cv2\n",
        "from keras.utils import np_utils\n",
        "from sklearn.model_selection import train_test_split\n",
        "\n",
        "img_data = []\n",
        "label_data = []\n",
        "\n",
        "def read_dir(img_path, label):\n",
        "  jpg_files = glob.glob(img_path + \"/*.jpg\")\n",
        "  for f in jpg_files:\n",
        "    img = cv2.imread(f)\n",
        "    img = cv2.resize(img, img_size)\n",
        "    img_data.append(img)\n",
        "    label_data.append(label)\n",
        "\n",
        "# molcarのlabelは0\n",
        "read_dir(path_molcar, 0)\n",
        "# carはのlabelは1\n",
        "read_dir(path_car, 1)\n",
        "\n",
        "# img_dataをndarray型へ変換\n",
        "img_data = np.array(img_data)\n",
        "\n",
        "# label_dataをOne_Hotベクトルへ変換\n",
        "one_hot_label_data = np_utils.to_categorical(label_data)\n",
        "# 整数型（uint8）へ変換\n",
        "one_hot_label_data = one_hot_label_data.astype('uint8')\n",
        "\n",
        "# それぞれデータを学習用とテスト用に8:2で分割\n",
        "x_train, x_test, y_train, y_test = train_test_split(img_data, one_hot_label_data, test_size=0.2)\n",
        "\n",
        "xy = (x_train, x_test, y_train, y_test)\n",
        "# npyファイルに保存\n",
        "np.save(path_root + \"/molcar_car.npy\", xy)"
      ],
      "execution_count": null,
      "outputs": []
    },
    {
      "cell_type": "code",
      "metadata": {
        "id": "HGP30taY3c4d"
      },
      "source": [
        "# 畳み込みニューラルネットワーク（CNN）を用いて推論モデルをh5ファイルとして作成、保存\n",
        "from keras.models import Sequential\n",
        "from keras.layers import Conv2D, MaxPooling2D\n",
        "from keras.layers import Activation, Dropout, Flatten, Dense\n",
        "from keras.optimizers import RMSprop\n",
        "from keras.utils import np_utils\n",
        "import keras\n",
        "import numpy as np\n",
        "from sklearn.metrics import accuracy_score\n",
        "\n",
        "# ラベルデータのサイズ\n",
        "output_size = 2\n",
        "\n",
        "# One_Hotベクトルデータ形式ではラベル0は[1,0] ラベル1は[0,1]\n",
        "\n",
        "def load_data_cnn():\n",
        "  # npyをロードしそれぞれ学習用データ、テスト用データの変数に格納\n",
        "  x_train, x_test, y_train, y_test = np.load(path_root + \"/molcar_car.npy\", allow_pickle=True)\n",
        "  return x_train, y_train, x_test, y_test\n",
        "\n",
        "def train_cnn(x, y, x_test, y_test):\n",
        "  model = Sequential()\n",
        "\n",
        "  # X.shape[1:]が定番、フィルターサイズは奇数、フィルター枚数は問題による2のn乗\n",
        "  model.add(Conv2D(64,(7,7), padding='same', input_shape=x.shape[1:]))\n",
        "  model.add(Activation('relu'))\n",
        "  model.add(MaxPooling2D(pool_size=(2,2)))#\n",
        "  model.add(Conv2D(64,(7,7)))\n",
        "  model.add(Activation('relu'))\n",
        "  model.add(MaxPooling2D(pool_size=(2,2)))\n",
        "  model.add(Dropout(0.1))\n",
        "\n",
        "  model.add(Conv2D(64,(7,7), padding='same'))\n",
        "  model.add(Activation('relu'))\n",
        "  model.add(MaxPooling2D(pool_size=(2,2)))\n",
        "  model.add(Conv2D(64,(7,7)))\n",
        "  model.add(Activation('relu'))\n",
        "  model.add(MaxPooling2D(pool_size=(2,2)))\n",
        "  model.add(Dropout(0.25))\n",
        "\n",
        "  model.add(Flatten())\n",
        "  model.add(Dense(512))\n",
        "  model.add(Activation('relu'))\n",
        "  model.add(Dropout(0.45))\n",
        "  model.add(Dense(output_size))\n",
        "  model.add(Activation('softmax'))\n",
        "\n",
        "  # https://keras.io/ja/optimizers/\n",
        "  # 最適化アルゴリズムはRMSpropを利用\n",
        "  opt = RMSprop(learning_rate=0.00005, decay=1e-6)\n",
        "\n",
        "  # https://keras.io/ja/models/sequential/\n",
        "  # modelをコンパイル\n",
        "  model.compile(loss='categorical_crossentropy',optimizer=opt,metrics=['accuracy'])\n",
        "\n",
        "  #modelに学習データを28個単位で区切って全て学習させる。学習の評価はテストデータを使用する。これを40回繰り返す。\n",
        "  #batch_sizeは1度に勉強するデータ数、なので280個問題があったら10回問題を解かないと問題集が終わらない、と言ったイメージ\n",
        "  #epochsは問題集を何回繰り返し解くかを指定、ここでは40回繰り返すように指定\n",
        "  #validation_data=(x_test,y_test)は、推論モデルの実力は実力テスト（x_testとy_test）で評価する\n",
        "  # model.fit(x, y, batch_size=28, epochs=40,verbose=1,validation_data=(x_test,y_test))\n",
        "  model.fit(x, y, batch_size=28, epochs=10,verbose=1,validation_data=(x_test,y_test))\n",
        "\n",
        "  # HDF5ファイル(.h5)にKerasのモデルを保存。CNNで学習したモデルをHDF5形式でGoogleDriveに保存。以降、AIを利用する際は再度学習の必要なし。\n",
        "  model.save(path_root + '/molcar_car_cnn_model_conv7_7_pooling.h5')\n",
        "\n",
        "# npyファイルからデータセットの読み込み\n",
        "x_train, y_train, x_test, y_test = load_data_cnn()\n",
        "\n",
        "# モデルの学習\n",
        "model = train_cnn(x_train, y_train, x_test, y_test)"
      ],
      "execution_count": null,
      "outputs": []
    },
    {
      "cell_type": "code",
      "metadata": {
        "id": "G8qUNKBwGJIG"
      },
      "source": [
        "# モルカーと車の試験用画像を収集\n",
        "path_molcar_car = path_root + '/molcar_car'\n",
        "\n",
        "Path(path_molcar_car).mkdir(exist_ok=True)\n",
        "\n",
        "# モルカーと車で検索した画像を合計最大100枚保存\n",
        "crawler = BingImageCrawler(storage={'root_dir': path_molcar_car})\n",
        "crawler.crawl(keyword='モルカー', max_num=50)\n",
        "crawler.crawl(keyword='車', max_num=50)"
      ],
      "execution_count": null,
      "outputs": []
    },
    {
      "cell_type": "code",
      "metadata": {
        "id": "QM5eZHgC3ef8"
      },
      "source": [
        "# h5ファイルから学習済みのモデルを呼び出して画像判定\n",
        "import cv2\n",
        "import keras\n",
        "import sys, os, glob\n",
        "import numpy as np\n",
        "from keras.models import load_model\n",
        "\n",
        "# 学習済みのモデルを呼び出す\n",
        "path_model = path_root + '/molcar_car_cnn_model_conv7_7_pooling.h5'\n",
        "\n",
        "# ファイル名から画像データを返す関数\n",
        "def load_image(f):\n",
        "  img = cv2.imread(f) # 画像集計でnpyファイルを作る際にOpenCV形式だったので、それに合わせる\n",
        "  img = cv2.resize(img, img_size)\n",
        "  return img\n",
        "\n",
        "model = load_model(path_model)\n",
        "\n",
        "cnt_all = 0\n",
        "cnt_molcar = 0\n",
        "cnt_car = 0\n",
        "\n",
        "jpg_files = glob.glob(path_molcar_car + \"/*.jpg\")\n",
        "for jf in jpg_files:\n",
        "  img = load_image(jf)\n",
        "\n",
        "  # 新規画像を学習済みモデルに判定させる\n",
        "  # 画像集計でnpyファイルを作る際にndarray型データだったので、それに合わせる\n",
        "  prd = model.predict(np.array([img]))\n",
        "\n",
        "  # print(prd) # 精度を表示する\n",
        "  prelabel = np.argmax(prd, axis=1) # argmaxはaxis=1なので横方向に見て、パラメータprd(予測結果が[予測1,予測2,予測3]のように入っている)の最大値の場所をを返す。今回で言えばAランクは0、Bランクは1、Cランクは2のように\n",
        "  if prelabel == 0:\n",
        "    print(jf.replace(path_root,\"\"), \">>> PUIPUI !   　    　\", prd)\n",
        "    cnt_molcar += 1\n",
        "  elif prelabel == 1:\n",
        "    print(jf.replace(path_root,\"\"), \">>> NO PUIPUI...  \", prd)\n",
        "    cnt_car += 1\n",
        "  cnt_all += 1\n",
        "\n",
        "print(mol_aa.format('PUIPUI !'))\n",
        "\n",
        "# 結果出力\n",
        "print(f'判定した画像総数: {cnt_all}枚')\n",
        "print(f'モルカーと判定した画像枚数: {cnt_molcar}枚')\n",
        "print(f'車と判定した画像枚数: {cnt_car}枚')\n",
        "print(f'モルカーとも車とも判定しなかった画像枚数: {cnt_all - cnt_molcar - cnt_car}枚')"
      ],
      "execution_count": null,
      "outputs": []
    }
  ]
}